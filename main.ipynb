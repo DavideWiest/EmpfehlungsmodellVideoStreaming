{
 "cells": [
  {
   "cell_type": "code",
   "execution_count": 1,
   "metadata": {},
   "outputs": [],
   "source": [
    "import numpy as np\n",
    "import pandas"
   ]
  },
  {
   "cell_type": "code",
   "execution_count": 11,
   "metadata": {},
   "outputs": [
    {
     "name": "stdout",
     "output_type": "stream",
     "text": [
      "  benutzername           filma      filmb       filmc         filmd\n",
      "0         Hans   Batman Begins   Twilight   Toy Story   Spiderman 1\n"
     ]
    }
   ],
   "source": [
    "genres = pandas.read_csv('in/streaming_genres.csv', delimiter=',', header=0)\n",
    "historie = pandas.read_csv('in/streaming_historie.csv', delimiter=',', header=0)\n",
    "ratings = pandas.read_csv('in/streaming_ratings.csv', delimiter=',', header=0)\n",
    "\n",
    "\n",
    "hans_movies = historie[historie[\"benutzername\"] == \"Hans\"]\n",
    "print(hans_movies)"
   ]
  }
 ],
 "metadata": {
  "kernelspec": {
   "display_name": "Python 3",
   "language": "python",
   "name": "python3"
  },
  "language_info": {
   "codemirror_mode": {
    "name": "ipython",
    "version": 3
   },
   "file_extension": ".py",
   "mimetype": "text/x-python",
   "name": "python",
   "nbconvert_exporter": "python",
   "pygments_lexer": "ipython3",
   "version": "3.10.11"
  }
 },
 "nbformat": 4,
 "nbformat_minor": 2
}
