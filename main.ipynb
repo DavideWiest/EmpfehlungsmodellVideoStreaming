{
 "cells": [
  {
   "cell_type": "code",
   "execution_count": 1,
   "metadata": {},
   "outputs": [],
   "source": [
    "import numpy as np\n",
    "import pandas"
   ]
  },
  {
   "cell_type": "code",
   "execution_count": 3,
   "metadata": {},
   "outputs": [
    {
     "name": "stdout",
     "output_type": "stream",
     "text": [
      "          filmname  action  romance  animation  thriller\n",
      "0    Batman Begins       1        0          0         1\n",
      "1  The Dark Knight       1        0          0         1\n",
      "2         Twilight       0        1          0         0\n",
      "3    Love Actually       0        1          0         0\n",
      "4               Up       0        0          1         0\n",
      "5        Toy Story       0        0          1         0\n",
      "6      Spiderman 1       1        0          0         1\n",
      "7      Spiderman 2       1        0          0         1\n"
     ]
    }
   ],
   "source": [
    "genres = pandas.read_csv('in/streaming_genres.csv', delimiter=',', header=0)\n",
    "historie = pandas.read_csv('in/streaming_historie.csv', delimiter=',', header=0)\n",
    "ratings = pandas.read_csv('in/streaming_ratings.csv', delimiter=',', header=0)\n",
    "\n",
    "print(genres)"
   ]
  }
 ],
 "metadata": {
  "kernelspec": {
   "display_name": "Python 3",
   "language": "python",
   "name": "python3"
  },
  "language_info": {
   "codemirror_mode": {
    "name": "ipython",
    "version": 3
   },
   "file_extension": ".py",
   "mimetype": "text/x-python",
   "name": "python",
   "nbconvert_exporter": "python",
   "pygments_lexer": "ipython3",
   "version": "3.10.11"
  }
 },
 "nbformat": 4,
 "nbformat_minor": 2
}
